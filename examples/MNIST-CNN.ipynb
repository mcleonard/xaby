{
 "cells": [
  {
   "cell_type": "markdown",
   "metadata": {},
   "source": [
    "# Training on MNIST with XABY with Convolutions\n",
    "\n",
    "This notebook demonstrates how to train a convolutional network on MNIST with the XABY framework.\n",
    "\n",
    "I'm going to use torchvision to load in the MNIST data, because it's super great."
   ]
  },
  {
   "cell_type": "code",
   "execution_count": null,
   "metadata": {},
   "outputs": [],
   "source": [
    "import time\n",
    "import xaby as xb\n",
    "import xaby.nn as xn\n",
    "\n",
    "import jax\n",
    "import jax.numpy as np\n",
    "\n",
    "# For loading MNIST data\n",
    "import torch\n",
    "from torchvision import transforms, datasets"
   ]
  },
  {
   "cell_type": "code",
   "execution_count": null,
   "metadata": {},
   "outputs": [],
   "source": [
    "transform = transforms.Compose([\n",
    "    transforms.ToTensor(),\n",
    "    transforms.Normalize((0.1307,), (0.3081,))\n",
    "])\n",
    "\n",
    "mnist_train = datasets.MNIST(\"~/.pytorch\", train=True, transform=transform, download=True)\n",
    "mnist_test = datasets.MNIST(\"~/.pytorch\", train=False, transform=transform, download=True)\n",
    "\n",
    "train_loader = torch.utils.data.DataLoader(mnist_train, batch_size=64, shuffle=True, num_workers=2)\n",
    "test_loader = torch.utils.data.DataLoader(mnist_test, batch_size=64, num_workers=2)"
   ]
  },
  {
   "cell_type": "markdown",
   "metadata": {},
   "source": [
    "## Train a convolutional model\n",
    "\n",
    "Below I'll define a convolutional network and train it on the MNIST dataset."
   ]
  },
  {
   "cell_type": "code",
   "execution_count": null,
   "metadata": {},
   "outputs": [],
   "source": [
    "### Define a model\n",
    "conv1 = xn.conv2d(1, 32, 3, 2, 1) >> xn.relu\n",
    "conv2 = xn.conv2d(32, 64, 3, 2, 1) >> xn.relu\n",
    "fc = xn.linear(3136, 128) >> xn.relu\n",
    "classifier = xn.linear(128, 10) >> xn.log_softmax(axis=0)\n",
    "model = conv1 >> conv2 >> xb.flatten(axis=0) >> fc >> classifier\n",
    "\n",
    "# loss function\n",
    "loss = xb.nn.nll_loss(model)\n",
    "\n",
    "# Update function\n",
    "update = xb.optim.sgd(lr=0.003)\n",
    "\n",
    "step = 0\n",
    "start = time.time()\n",
    "epochs = 2\n",
    "batch_size = train_loader.batch_size\n",
    "print_every = 100\n",
    "for e in range(epochs):\n",
    "    for images, labels in train_loader:\n",
    "        step += 1\n",
    "        inputs = xb.pack(xb.array(images), xb.array(labels))\n",
    "        \n",
    "        train_loss, grads = loss(inputs)\n",
    "        update(model, grads)\n",
    "\n",
    "        if step % print_every == 0:\n",
    "            stop = time.time()\n",
    "            test_losses = []\n",
    "            test_accuracy = []\n",
    "            for images, labels in test_loader:\n",
    "                inputs = xb.pack(xb.array(images), xb.array(labels))\n",
    "            \n",
    "                log_p, = model([inputs[0]])\n",
    "                pred_label = xb.jnp.argmax(log_p, axis=1)\n",
    "                test_accuracy.append((inputs[1] == pred_label).mean())\n",
    "                \n",
    "                # Make it so we don't have to calculate the gradients for speeeeeed\n",
    "                test_loss, _ = loss(inputs)\n",
    "                test_losses.append(test_loss)\n",
    "\n",
    "            print(f\"Epoch: {e+1}/{epochs}  \"\n",
    "                  f\"Train loss: {train_loss:.3f}  \"\n",
    "                  f\"Test loss: {sum(test_losses)/len(test_losses):.3f}  \"\n",
    "                  f\"Test acc.: {sum(test_accuracy)/len(test_accuracy):.3f}  \"\n",
    "                  f\"Images/sec: {print_every*batch_size/(stop - start):.3f}\")\n",
    "            \n",
    "            start = time.time()"
   ]
  }
 ],
 "metadata": {
  "kernelspec": {
   "display_name": "Python 3",
   "language": "python",
   "name": "python3"
  },
  "language_info": {
   "codemirror_mode": {
    "name": "ipython",
    "version": 3
   },
   "file_extension": ".py",
   "mimetype": "text/x-python",
   "name": "python",
   "nbconvert_exporter": "python",
   "pygments_lexer": "ipython3",
   "version": "3.6.13"
  }
 },
 "nbformat": 4,
 "nbformat_minor": 4
}
