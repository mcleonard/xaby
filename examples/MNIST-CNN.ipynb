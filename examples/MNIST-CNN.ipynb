{
 "cells": [
  {
   "cell_type": "markdown",
   "metadata": {},
   "source": [
    "# Training on MNIST with XABY with Convolutions\n",
    "\n",
    "This notebook demonstrates how to train a convolutional network on MNIST with the XABY framework.\n",
    "\n",
    "I'm going to use torchvision to load in the MNIST data, because it's super great."
   ]
  },
  {
   "cell_type": "code",
   "execution_count": 1,
   "metadata": {},
   "outputs": [
    {
     "name": "stderr",
     "output_type": "stream",
     "text": [
      "/Users/mat/miniconda3/envs/xaby/lib/python3.6/site-packages/jax/lib/xla_bridge.py:120: UserWarning: No GPU/TPU found, falling back to CPU.\n",
      "  warnings.warn('No GPU/TPU found, falling back to CPU.')\n"
     ]
    }
   ],
   "source": [
    "import time\n",
    "import xaby as xb\n",
    "import xaby.nn as xn\n",
    "\n",
    "import jax\n",
    "import jax.numpy as np\n",
    "\n",
    "# For loading MNIST data\n",
    "import torch\n",
    "from torchvision import transforms, datasets"
   ]
  },
  {
   "cell_type": "code",
   "execution_count": 2,
   "metadata": {},
   "outputs": [],
   "source": [
    "transform = transforms.Compose([\n",
    "    transforms.ToTensor(),\n",
    "    transforms.Normalize((0.1307,), (0.3081,))\n",
    "])\n",
    "\n",
    "mnist_train = datasets.MNIST(\"~/.pytorch\", train=True, transform=transform, download=True)\n",
    "mnist_test = datasets.MNIST(\"~/.pytorch\", train=False, transform=transform, download=True)\n",
    "\n",
    "train_loader = torch.utils.data.DataLoader(mnist_train, batch_size=64, shuffle=True, num_workers=2)\n",
    "test_loader = torch.utils.data.DataLoader(mnist_test, batch_size=64, num_workers=2)"
   ]
  },
  {
   "cell_type": "markdown",
   "metadata": {},
   "source": [
    "## Train a convolutional model\n",
    "\n",
    "Below I'll define a convolutional network and train it on the MNIST dataset."
   ]
  },
  {
   "cell_type": "code",
   "execution_count": 4,
   "metadata": {},
   "outputs": [
    {
     "name": "stdout",
     "output_type": "stream",
     "text": [
      "Epoch: 1/2  Train loss: 4.121  Test loss: 4.114  Test acc.: 0.458  Images/sec: 1261.911\n",
      "Epoch: 1/2  Train loss: 4.085  Test loss: 4.057  Test acc.: 0.599  Images/sec: 2737.229\n",
      "Epoch: 1/2  Train loss: 3.949  Test loss: 3.944  Test acc.: 0.675  Images/sec: 2843.397\n",
      "Epoch: 1/2  Train loss: 3.731  Test loss: 3.697  Test acc.: 0.732  Images/sec: 2738.279\n",
      "Epoch: 1/2  Train loss: 3.400  Test loss: 3.272  Test acc.: 0.791  Images/sec: 2845.163\n",
      "Epoch: 1/2  Train loss: 3.042  Test loss: 2.940  Test acc.: 0.825  Images/sec: 2772.471\n",
      "Epoch: 1/2  Train loss: 2.948  Test loss: 2.775  Test acc.: 0.844  Images/sec: 2772.951\n",
      "Epoch: 1/2  Train loss: 2.661  Test loss: 2.679  Test acc.: 0.854  Images/sec: 2641.313\n",
      "Epoch: 1/2  Train loss: 2.761  Test loss: 2.620  Test acc.: 0.861  Images/sec: 2409.088\n",
      "Epoch: 2/2  Train loss: 2.589  Test loss: 2.578  Test acc.: 0.870  Images/sec: 1427.188\n",
      "Epoch: 2/2  Train loss: 2.641  Test loss: 2.549  Test acc.: 0.876  Images/sec: 2397.966\n",
      "Epoch: 2/2  Train loss: 2.738  Test loss: 2.524  Test acc.: 0.879  Images/sec: 2314.667\n",
      "Epoch: 2/2  Train loss: 2.609  Test loss: 2.505  Test acc.: 0.883  Images/sec: 2476.684\n",
      "Epoch: 2/2  Train loss: 2.543  Test loss: 2.485  Test acc.: 0.888  Images/sec: 2291.584\n",
      "Epoch: 2/2  Train loss: 2.511  Test loss: 2.469  Test acc.: 0.890  Images/sec: 2661.523\n",
      "Epoch: 2/2  Train loss: 2.582  Test loss: 2.454  Test acc.: 0.893  Images/sec: 2729.875\n",
      "Epoch: 2/2  Train loss: 2.530  Test loss: 2.444  Test acc.: 0.898  Images/sec: 2682.212\n",
      "Epoch: 2/2  Train loss: 2.550  Test loss: 2.429  Test acc.: 0.898  Images/sec: 2649.142\n"
     ]
    }
   ],
   "source": [
    "### Define a model\n",
    "conv1 = xn.conv2d(1, 32, 3, 2, 1) >> xn.relu\n",
    "conv2 = xn.conv2d(32, 64, 3, 2, 1) >> xn.relu\n",
    "fc = xn.linear(3136, 128) >> xn.relu\n",
    "classifier = xn.linear(128, 10) >> xn.log_softmax(axis=0)\n",
    "model = conv1 >> conv2 >> xb.flatten(axis=0) >> fc >> classifier\n",
    "\n",
    "# loss function\n",
    "loss = xb.split(model, xb.skip) >> xn.losses.nll_loss()\n",
    "\n",
    "# Update function\n",
    "update = xb.optim.sgd(lr=0.003)\n",
    "\n",
    "step = 0\n",
    "start = time.time()\n",
    "epochs = 2\n",
    "batch_size = train_loader.batch_size\n",
    "print_every = 100\n",
    "for e in range(epochs):\n",
    "    for images, labels in train_loader:\n",
    "        step += 1\n",
    "        \n",
    "        # Wrap up the inputs\n",
    "        inputs = xb.pack(xb.array(images), xb.array(labels))\n",
    "        \n",
    "        # Get the gradients\n",
    "        train_loss, grads = loss << inputs\n",
    "        \n",
    "        # And update our parameters\n",
    "        update(loss, grads)\n",
    "\n",
    "        if step % print_every == 0:\n",
    "            stop = time.time()\n",
    "            test_losses = []\n",
    "            test_accuracy = []\n",
    "            for images, labels in test_loader:\n",
    "                inputs = xb.pack(xb.array(images), xb.array(labels))\n",
    "            \n",
    "                log_p, = inputs >> xb.select(0) >> model\n",
    "                pred_label = xb.jnp.argmax(log_p, axis=1)\n",
    "                test_accuracy.append((inputs[1] == pred_label).mean())\n",
    "\n",
    "                test_loss = inputs >> loss\n",
    "                test_losses.append(test_loss)\n",
    "\n",
    "            print(f\"Epoch: {e+1}/{epochs}  \"\n",
    "                  f\"Train loss: {train_loss:.3f}  \"\n",
    "                  f\"Test loss: {sum(test_losses)/len(test_losses):.3f}  \"\n",
    "                  f\"Test acc.: {sum(test_accuracy)/len(test_accuracy):.3f}  \"\n",
    "                  f\"Images/sec: {print_every*batch_size/(stop - start):.3f}\")\n",
    "            \n",
    "            start = time.time()"
   ]
  }
 ],
 "metadata": {
  "kernelspec": {
   "display_name": "Python 3",
   "language": "python",
   "name": "python3"
  },
  "language_info": {
   "codemirror_mode": {
    "name": "ipython",
    "version": 3
   },
   "file_extension": ".py",
   "mimetype": "text/x-python",
   "name": "python",
   "nbconvert_exporter": "python",
   "pygments_lexer": "ipython3",
   "version": "3.6.13"
  }
 },
 "nbformat": 4,
 "nbformat_minor": 4
}
